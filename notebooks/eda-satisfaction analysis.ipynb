{
  "cells": [
    {
      "cell_type": "markdown",
      "source": [
        "# **SATISFACTION ANALYSIS**\n",
        "\n",
        "---\n",
        "\n",
        "*We have a set of airline passenger data to explore and discover what factors predict the best flight experiences.*"
      ],
      "metadata": {
        "id": "UUokI6z30Lmx"
      }
    },
    {
      "cell_type": "markdown",
      "source": [
        "BOOKSTORES"
      ],
      "metadata": {
        "id": "b-QvF8FnkD4Q"
      }
    },
    {
      "cell_type": "code",
      "source": [
        "import numpy as np\n",
        "import pandas as pd\n",
        "import matplotlib.pyplot as plt\n",
        "import seaborn as sns"
      ],
      "metadata": {
        "id": "4BaD7vL0kKZ4"
      },
      "execution_count": 13,
      "outputs": []
    },
    {
      "cell_type": "markdown",
      "source": [
        "Importing the dataset"
      ],
      "metadata": {
        "id": "XcFxB4n4jCgI"
      }
    },
    {
      "cell_type": "code",
      "source": [
        "data = pd.read_csv(\"/content/airline - airline.csv\")\n",
        "data = data.drop(columns=[\"id\"])\n",
        "\n",
        "#data.info()\n",
        "data"
      ],
      "metadata": {
        "colab": {
          "base_uri": "https://localhost:8080/",
          "height": 669
        },
        "id": "E3ptoWI5FJR1",
        "outputId": "f0eafbbe-2d1f-4c28-f10c-008b7b0ac26b"
      },
      "execution_count": 14,
      "outputs": [
        {
          "output_type": "execute_result",
          "data": {
            "text/plain": [
              "        Gender Customer Type                Age  Type of Travel  \\\n",
              "0        70172          Male     Loyal Customer              13   \n",
              "1         5047          Male  disloyal Customer              25   \n",
              "2       110028        Female     Loyal Customer              26   \n",
              "3        24026        Female     Loyal Customer              25   \n",
              "4       119299          Male     Loyal Customer              61   \n",
              "...        ...           ...                ...             ...   \n",
              "103899   94171        Female  disloyal Customer              23   \n",
              "103900   73097          Male     Loyal Customer              49   \n",
              "103901   68825          Male  disloyal Customer              30   \n",
              "103902   54173        Female  disloyal Customer              22   \n",
              "103903   62567          Male     Loyal Customer              27   \n",
              "\n",
              "                  Class Flight Distance  Inflight wifi service  \\\n",
              "0       Personal Travel        Eco Plus                    460   \n",
              "1       Business travel        Business                    235   \n",
              "2       Business travel        Business                   1142   \n",
              "3       Business travel        Business                    562   \n",
              "4       Business travel        Business                    214   \n",
              "...                 ...             ...                    ...   \n",
              "103899  Business travel             Eco                    192   \n",
              "103900  Business travel        Business                   2347   \n",
              "103901  Business travel        Business                   1995   \n",
              "103902  Business travel             Eco                   1000   \n",
              "103903  Business travel        Business                   1723   \n",
              "\n",
              "        Departure/Arrival time convenient  Ease of Online booking  \\\n",
              "0                                       3                       4   \n",
              "1                                       3                       2   \n",
              "2                                       2                       2   \n",
              "3                                       2                       5   \n",
              "4                                       3                       3   \n",
              "...                                   ...                     ...   \n",
              "103899                                  2                       1   \n",
              "103900                                  4                       4   \n",
              "103901                                  1                       1   \n",
              "103902                                  1                       1   \n",
              "103903                                  1                       3   \n",
              "\n",
              "        Gate location  ...  On-board service  Leg room service  \\\n",
              "0                   3  ...                 5                 4   \n",
              "1                   3  ...                 1                 1   \n",
              "2                   2  ...                 5                 4   \n",
              "3                   5  ...                 2                 2   \n",
              "4                   3  ...                 3                 3   \n",
              "...               ...  ...               ...               ...   \n",
              "103899              2  ...                 2                 3   \n",
              "103900              4  ...                 5                 5   \n",
              "103901              1  ...                 4                 3   \n",
              "103902              1  ...                 1                 4   \n",
              "103903              3  ...                 1                 1   \n",
              "\n",
              "        Baggage handling  Checkin service  Inflight service  Cleanliness  \\\n",
              "0                      3                4                 4            5   \n",
              "1                      5                3                 1            4   \n",
              "2                      3                4                 4            4   \n",
              "3                      5                3                 1            4   \n",
              "4                      4                4                 3            3   \n",
              "...                  ...              ...               ...          ...   \n",
              "103899                 1                4                 2            3   \n",
              "103900                 5                5                 5            5   \n",
              "103901                 2                4                 5            5   \n",
              "103902                 5                1                 5            4   \n",
              "103903                 1                4                 4            3   \n",
              "\n",
              "        Departure Delay in Minutes  Arrival Delay in Minutes  satisfaction  \\\n",
              "0                                5                        25          18.0   \n",
              "1                                1                         1           6.0   \n",
              "2                                5                         0           0.0   \n",
              "3                                2                        11           9.0   \n",
              "4                                3                         0           0.0   \n",
              "...                            ...                       ...           ...   \n",
              "103899                           2                         3           0.0   \n",
              "103900                           4                         0           0.0   \n",
              "103901                           4                         7          14.0   \n",
              "103902                           1                         0           0.0   \n",
              "103903                           1                         0           0.0   \n",
              "\n",
              "                    Unnamed: 24  \n",
              "0       neutral or dissatisfied  \n",
              "1       neutral or dissatisfied  \n",
              "2                     satisfied  \n",
              "3       neutral or dissatisfied  \n",
              "4                     satisfied  \n",
              "...                         ...  \n",
              "103899  neutral or dissatisfied  \n",
              "103900                satisfied  \n",
              "103901  neutral or dissatisfied  \n",
              "103902  neutral or dissatisfied  \n",
              "103903  neutral or dissatisfied  \n",
              "\n",
              "[103904 rows x 24 columns]"
            ],
            "text/html": [
              "\n",
              "  <div id=\"df-f876dfb0-d8e3-4cbf-aa94-1df242826ee2\" class=\"colab-df-container\">\n",
              "    <div>\n",
              "<style scoped>\n",
              "    .dataframe tbody tr th:only-of-type {\n",
              "        vertical-align: middle;\n",
              "    }\n",
              "\n",
              "    .dataframe tbody tr th {\n",
              "        vertical-align: top;\n",
              "    }\n",
              "\n",
              "    .dataframe thead th {\n",
              "        text-align: right;\n",
              "    }\n",
              "</style>\n",
              "<table border=\"1\" class=\"dataframe\">\n",
              "  <thead>\n",
              "    <tr style=\"text-align: right;\">\n",
              "      <th></th>\n",
              "      <th>Gender</th>\n",
              "      <th>Customer Type</th>\n",
              "      <th>Age</th>\n",
              "      <th>Type of Travel</th>\n",
              "      <th>Class</th>\n",
              "      <th>Flight Distance</th>\n",
              "      <th>Inflight wifi service</th>\n",
              "      <th>Departure/Arrival time convenient</th>\n",
              "      <th>Ease of Online booking</th>\n",
              "      <th>Gate location</th>\n",
              "      <th>...</th>\n",
              "      <th>On-board service</th>\n",
              "      <th>Leg room service</th>\n",
              "      <th>Baggage handling</th>\n",
              "      <th>Checkin service</th>\n",
              "      <th>Inflight service</th>\n",
              "      <th>Cleanliness</th>\n",
              "      <th>Departure Delay in Minutes</th>\n",
              "      <th>Arrival Delay in Minutes</th>\n",
              "      <th>satisfaction</th>\n",
              "      <th>Unnamed: 24</th>\n",
              "    </tr>\n",
              "  </thead>\n",
              "  <tbody>\n",
              "    <tr>\n",
              "      <th>0</th>\n",
              "      <td>70172</td>\n",
              "      <td>Male</td>\n",
              "      <td>Loyal Customer</td>\n",
              "      <td>13</td>\n",
              "      <td>Personal Travel</td>\n",
              "      <td>Eco Plus</td>\n",
              "      <td>460</td>\n",
              "      <td>3</td>\n",
              "      <td>4</td>\n",
              "      <td>3</td>\n",
              "      <td>...</td>\n",
              "      <td>5</td>\n",
              "      <td>4</td>\n",
              "      <td>3</td>\n",
              "      <td>4</td>\n",
              "      <td>4</td>\n",
              "      <td>5</td>\n",
              "      <td>5</td>\n",
              "      <td>25</td>\n",
              "      <td>18.0</td>\n",
              "      <td>neutral or dissatisfied</td>\n",
              "    </tr>\n",
              "    <tr>\n",
              "      <th>1</th>\n",
              "      <td>5047</td>\n",
              "      <td>Male</td>\n",
              "      <td>disloyal Customer</td>\n",
              "      <td>25</td>\n",
              "      <td>Business travel</td>\n",
              "      <td>Business</td>\n",
              "      <td>235</td>\n",
              "      <td>3</td>\n",
              "      <td>2</td>\n",
              "      <td>3</td>\n",
              "      <td>...</td>\n",
              "      <td>1</td>\n",
              "      <td>1</td>\n",
              "      <td>5</td>\n",
              "      <td>3</td>\n",
              "      <td>1</td>\n",
              "      <td>4</td>\n",
              "      <td>1</td>\n",
              "      <td>1</td>\n",
              "      <td>6.0</td>\n",
              "      <td>neutral or dissatisfied</td>\n",
              "    </tr>\n",
              "    <tr>\n",
              "      <th>2</th>\n",
              "      <td>110028</td>\n",
              "      <td>Female</td>\n",
              "      <td>Loyal Customer</td>\n",
              "      <td>26</td>\n",
              "      <td>Business travel</td>\n",
              "      <td>Business</td>\n",
              "      <td>1142</td>\n",
              "      <td>2</td>\n",
              "      <td>2</td>\n",
              "      <td>2</td>\n",
              "      <td>...</td>\n",
              "      <td>5</td>\n",
              "      <td>4</td>\n",
              "      <td>3</td>\n",
              "      <td>4</td>\n",
              "      <td>4</td>\n",
              "      <td>4</td>\n",
              "      <td>5</td>\n",
              "      <td>0</td>\n",
              "      <td>0.0</td>\n",
              "      <td>satisfied</td>\n",
              "    </tr>\n",
              "    <tr>\n",
              "      <th>3</th>\n",
              "      <td>24026</td>\n",
              "      <td>Female</td>\n",
              "      <td>Loyal Customer</td>\n",
              "      <td>25</td>\n",
              "      <td>Business travel</td>\n",
              "      <td>Business</td>\n",
              "      <td>562</td>\n",
              "      <td>2</td>\n",
              "      <td>5</td>\n",
              "      <td>5</td>\n",
              "      <td>...</td>\n",
              "      <td>2</td>\n",
              "      <td>2</td>\n",
              "      <td>5</td>\n",
              "      <td>3</td>\n",
              "      <td>1</td>\n",
              "      <td>4</td>\n",
              "      <td>2</td>\n",
              "      <td>11</td>\n",
              "      <td>9.0</td>\n",
              "      <td>neutral or dissatisfied</td>\n",
              "    </tr>\n",
              "    <tr>\n",
              "      <th>4</th>\n",
              "      <td>119299</td>\n",
              "      <td>Male</td>\n",
              "      <td>Loyal Customer</td>\n",
              "      <td>61</td>\n",
              "      <td>Business travel</td>\n",
              "      <td>Business</td>\n",
              "      <td>214</td>\n",
              "      <td>3</td>\n",
              "      <td>3</td>\n",
              "      <td>3</td>\n",
              "      <td>...</td>\n",
              "      <td>3</td>\n",
              "      <td>3</td>\n",
              "      <td>4</td>\n",
              "      <td>4</td>\n",
              "      <td>3</td>\n",
              "      <td>3</td>\n",
              "      <td>3</td>\n",
              "      <td>0</td>\n",
              "      <td>0.0</td>\n",
              "      <td>satisfied</td>\n",
              "    </tr>\n",
              "    <tr>\n",
              "      <th>...</th>\n",
              "      <td>...</td>\n",
              "      <td>...</td>\n",
              "      <td>...</td>\n",
              "      <td>...</td>\n",
              "      <td>...</td>\n",
              "      <td>...</td>\n",
              "      <td>...</td>\n",
              "      <td>...</td>\n",
              "      <td>...</td>\n",
              "      <td>...</td>\n",
              "      <td>...</td>\n",
              "      <td>...</td>\n",
              "      <td>...</td>\n",
              "      <td>...</td>\n",
              "      <td>...</td>\n",
              "      <td>...</td>\n",
              "      <td>...</td>\n",
              "      <td>...</td>\n",
              "      <td>...</td>\n",
              "      <td>...</td>\n",
              "      <td>...</td>\n",
              "    </tr>\n",
              "    <tr>\n",
              "      <th>103899</th>\n",
              "      <td>94171</td>\n",
              "      <td>Female</td>\n",
              "      <td>disloyal Customer</td>\n",
              "      <td>23</td>\n",
              "      <td>Business travel</td>\n",
              "      <td>Eco</td>\n",
              "      <td>192</td>\n",
              "      <td>2</td>\n",
              "      <td>1</td>\n",
              "      <td>2</td>\n",
              "      <td>...</td>\n",
              "      <td>2</td>\n",
              "      <td>3</td>\n",
              "      <td>1</td>\n",
              "      <td>4</td>\n",
              "      <td>2</td>\n",
              "      <td>3</td>\n",
              "      <td>2</td>\n",
              "      <td>3</td>\n",
              "      <td>0.0</td>\n",
              "      <td>neutral or dissatisfied</td>\n",
              "    </tr>\n",
              "    <tr>\n",
              "      <th>103900</th>\n",
              "      <td>73097</td>\n",
              "      <td>Male</td>\n",
              "      <td>Loyal Customer</td>\n",
              "      <td>49</td>\n",
              "      <td>Business travel</td>\n",
              "      <td>Business</td>\n",
              "      <td>2347</td>\n",
              "      <td>4</td>\n",
              "      <td>4</td>\n",
              "      <td>4</td>\n",
              "      <td>...</td>\n",
              "      <td>5</td>\n",
              "      <td>5</td>\n",
              "      <td>5</td>\n",
              "      <td>5</td>\n",
              "      <td>5</td>\n",
              "      <td>5</td>\n",
              "      <td>4</td>\n",
              "      <td>0</td>\n",
              "      <td>0.0</td>\n",
              "      <td>satisfied</td>\n",
              "    </tr>\n",
              "    <tr>\n",
              "      <th>103901</th>\n",
              "      <td>68825</td>\n",
              "      <td>Male</td>\n",
              "      <td>disloyal Customer</td>\n",
              "      <td>30</td>\n",
              "      <td>Business travel</td>\n",
              "      <td>Business</td>\n",
              "      <td>1995</td>\n",
              "      <td>1</td>\n",
              "      <td>1</td>\n",
              "      <td>1</td>\n",
              "      <td>...</td>\n",
              "      <td>4</td>\n",
              "      <td>3</td>\n",
              "      <td>2</td>\n",
              "      <td>4</td>\n",
              "      <td>5</td>\n",
              "      <td>5</td>\n",
              "      <td>4</td>\n",
              "      <td>7</td>\n",
              "      <td>14.0</td>\n",
              "      <td>neutral or dissatisfied</td>\n",
              "    </tr>\n",
              "    <tr>\n",
              "      <th>103902</th>\n",
              "      <td>54173</td>\n",
              "      <td>Female</td>\n",
              "      <td>disloyal Customer</td>\n",
              "      <td>22</td>\n",
              "      <td>Business travel</td>\n",
              "      <td>Eco</td>\n",
              "      <td>1000</td>\n",
              "      <td>1</td>\n",
              "      <td>1</td>\n",
              "      <td>1</td>\n",
              "      <td>...</td>\n",
              "      <td>1</td>\n",
              "      <td>4</td>\n",
              "      <td>5</td>\n",
              "      <td>1</td>\n",
              "      <td>5</td>\n",
              "      <td>4</td>\n",
              "      <td>1</td>\n",
              "      <td>0</td>\n",
              "      <td>0.0</td>\n",
              "      <td>neutral or dissatisfied</td>\n",
              "    </tr>\n",
              "    <tr>\n",
              "      <th>103903</th>\n",
              "      <td>62567</td>\n",
              "      <td>Male</td>\n",
              "      <td>Loyal Customer</td>\n",
              "      <td>27</td>\n",
              "      <td>Business travel</td>\n",
              "      <td>Business</td>\n",
              "      <td>1723</td>\n",
              "      <td>1</td>\n",
              "      <td>3</td>\n",
              "      <td>3</td>\n",
              "      <td>...</td>\n",
              "      <td>1</td>\n",
              "      <td>1</td>\n",
              "      <td>1</td>\n",
              "      <td>4</td>\n",
              "      <td>4</td>\n",
              "      <td>3</td>\n",
              "      <td>1</td>\n",
              "      <td>0</td>\n",
              "      <td>0.0</td>\n",
              "      <td>neutral or dissatisfied</td>\n",
              "    </tr>\n",
              "  </tbody>\n",
              "</table>\n",
              "<p>103904 rows × 24 columns</p>\n",
              "</div>\n",
              "    <div class=\"colab-df-buttons\">\n",
              "\n",
              "  <div class=\"colab-df-container\">\n",
              "    <button class=\"colab-df-convert\" onclick=\"convertToInteractive('df-f876dfb0-d8e3-4cbf-aa94-1df242826ee2')\"\n",
              "            title=\"Convert this dataframe to an interactive table.\"\n",
              "            style=\"display:none;\">\n",
              "\n",
              "  <svg xmlns=\"http://www.w3.org/2000/svg\" height=\"24px\" viewBox=\"0 -960 960 960\">\n",
              "    <path d=\"M120-120v-720h720v720H120Zm60-500h600v-160H180v160Zm220 220h160v-160H400v160Zm0 220h160v-160H400v160ZM180-400h160v-160H180v160Zm440 0h160v-160H620v160ZM180-180h160v-160H180v160Zm440 0h160v-160H620v160Z\"/>\n",
              "  </svg>\n",
              "    </button>\n",
              "\n",
              "  <style>\n",
              "    .colab-df-container {\n",
              "      display:flex;\n",
              "      gap: 12px;\n",
              "    }\n",
              "\n",
              "    .colab-df-convert {\n",
              "      background-color: #E8F0FE;\n",
              "      border: none;\n",
              "      border-radius: 50%;\n",
              "      cursor: pointer;\n",
              "      display: none;\n",
              "      fill: #1967D2;\n",
              "      height: 32px;\n",
              "      padding: 0 0 0 0;\n",
              "      width: 32px;\n",
              "    }\n",
              "\n",
              "    .colab-df-convert:hover {\n",
              "      background-color: #E2EBFA;\n",
              "      box-shadow: 0px 1px 2px rgba(60, 64, 67, 0.3), 0px 1px 3px 1px rgba(60, 64, 67, 0.15);\n",
              "      fill: #174EA6;\n",
              "    }\n",
              "\n",
              "    .colab-df-buttons div {\n",
              "      margin-bottom: 4px;\n",
              "    }\n",
              "\n",
              "    [theme=dark] .colab-df-convert {\n",
              "      background-color: #3B4455;\n",
              "      fill: #D2E3FC;\n",
              "    }\n",
              "\n",
              "    [theme=dark] .colab-df-convert:hover {\n",
              "      background-color: #434B5C;\n",
              "      box-shadow: 0px 1px 3px 1px rgba(0, 0, 0, 0.15);\n",
              "      filter: drop-shadow(0px 1px 2px rgba(0, 0, 0, 0.3));\n",
              "      fill: #FFFFFF;\n",
              "    }\n",
              "  </style>\n",
              "\n",
              "    <script>\n",
              "      const buttonEl =\n",
              "        document.querySelector('#df-f876dfb0-d8e3-4cbf-aa94-1df242826ee2 button.colab-df-convert');\n",
              "      buttonEl.style.display =\n",
              "        google.colab.kernel.accessAllowed ? 'block' : 'none';\n",
              "\n",
              "      async function convertToInteractive(key) {\n",
              "        const element = document.querySelector('#df-f876dfb0-d8e3-4cbf-aa94-1df242826ee2');\n",
              "        const dataTable =\n",
              "          await google.colab.kernel.invokeFunction('convertToInteractive',\n",
              "                                                    [key], {});\n",
              "        if (!dataTable) return;\n",
              "\n",
              "        const docLinkHtml = 'Like what you see? Visit the ' +\n",
              "          '<a target=\"_blank\" href=https://colab.research.google.com/notebooks/data_table.ipynb>data table notebook</a>'\n",
              "          + ' to learn more about interactive tables.';\n",
              "        element.innerHTML = '';\n",
              "        dataTable['output_type'] = 'display_data';\n",
              "        await google.colab.output.renderOutput(dataTable, element);\n",
              "        const docLink = document.createElement('div');\n",
              "        docLink.innerHTML = docLinkHtml;\n",
              "        element.appendChild(docLink);\n",
              "      }\n",
              "    </script>\n",
              "  </div>\n",
              "\n",
              "\n",
              "<div id=\"df-fe1b32f7-1fbb-4e77-bfa4-3804eb670c30\">\n",
              "  <button class=\"colab-df-quickchart\" onclick=\"quickchart('df-fe1b32f7-1fbb-4e77-bfa4-3804eb670c30')\"\n",
              "            title=\"Suggest charts\"\n",
              "            style=\"display:none;\">\n",
              "\n",
              "<svg xmlns=\"http://www.w3.org/2000/svg\" height=\"24px\"viewBox=\"0 0 24 24\"\n",
              "     width=\"24px\">\n",
              "    <g>\n",
              "        <path d=\"M19 3H5c-1.1 0-2 .9-2 2v14c0 1.1.9 2 2 2h14c1.1 0 2-.9 2-2V5c0-1.1-.9-2-2-2zM9 17H7v-7h2v7zm4 0h-2V7h2v10zm4 0h-2v-4h2v4z\"/>\n",
              "    </g>\n",
              "</svg>\n",
              "  </button>\n",
              "\n",
              "<style>\n",
              "  .colab-df-quickchart {\n",
              "      --bg-color: #E8F0FE;\n",
              "      --fill-color: #1967D2;\n",
              "      --hover-bg-color: #E2EBFA;\n",
              "      --hover-fill-color: #174EA6;\n",
              "      --disabled-fill-color: #AAA;\n",
              "      --disabled-bg-color: #DDD;\n",
              "  }\n",
              "\n",
              "  [theme=dark] .colab-df-quickchart {\n",
              "      --bg-color: #3B4455;\n",
              "      --fill-color: #D2E3FC;\n",
              "      --hover-bg-color: #434B5C;\n",
              "      --hover-fill-color: #FFFFFF;\n",
              "      --disabled-bg-color: #3B4455;\n",
              "      --disabled-fill-color: #666;\n",
              "  }\n",
              "\n",
              "  .colab-df-quickchart {\n",
              "    background-color: var(--bg-color);\n",
              "    border: none;\n",
              "    border-radius: 50%;\n",
              "    cursor: pointer;\n",
              "    display: none;\n",
              "    fill: var(--fill-color);\n",
              "    height: 32px;\n",
              "    padding: 0;\n",
              "    width: 32px;\n",
              "  }\n",
              "\n",
              "  .colab-df-quickchart:hover {\n",
              "    background-color: var(--hover-bg-color);\n",
              "    box-shadow: 0 1px 2px rgba(60, 64, 67, 0.3), 0 1px 3px 1px rgba(60, 64, 67, 0.15);\n",
              "    fill: var(--button-hover-fill-color);\n",
              "  }\n",
              "\n",
              "  .colab-df-quickchart-complete:disabled,\n",
              "  .colab-df-quickchart-complete:disabled:hover {\n",
              "    background-color: var(--disabled-bg-color);\n",
              "    fill: var(--disabled-fill-color);\n",
              "    box-shadow: none;\n",
              "  }\n",
              "\n",
              "  .colab-df-spinner {\n",
              "    border: 2px solid var(--fill-color);\n",
              "    border-color: transparent;\n",
              "    border-bottom-color: var(--fill-color);\n",
              "    animation:\n",
              "      spin 1s steps(1) infinite;\n",
              "  }\n",
              "\n",
              "  @keyframes spin {\n",
              "    0% {\n",
              "      border-color: transparent;\n",
              "      border-bottom-color: var(--fill-color);\n",
              "      border-left-color: var(--fill-color);\n",
              "    }\n",
              "    20% {\n",
              "      border-color: transparent;\n",
              "      border-left-color: var(--fill-color);\n",
              "      border-top-color: var(--fill-color);\n",
              "    }\n",
              "    30% {\n",
              "      border-color: transparent;\n",
              "      border-left-color: var(--fill-color);\n",
              "      border-top-color: var(--fill-color);\n",
              "      border-right-color: var(--fill-color);\n",
              "    }\n",
              "    40% {\n",
              "      border-color: transparent;\n",
              "      border-right-color: var(--fill-color);\n",
              "      border-top-color: var(--fill-color);\n",
              "    }\n",
              "    60% {\n",
              "      border-color: transparent;\n",
              "      border-right-color: var(--fill-color);\n",
              "    }\n",
              "    80% {\n",
              "      border-color: transparent;\n",
              "      border-right-color: var(--fill-color);\n",
              "      border-bottom-color: var(--fill-color);\n",
              "    }\n",
              "    90% {\n",
              "      border-color: transparent;\n",
              "      border-bottom-color: var(--fill-color);\n",
              "    }\n",
              "  }\n",
              "</style>\n",
              "\n",
              "  <script>\n",
              "    async function quickchart(key) {\n",
              "      const quickchartButtonEl =\n",
              "        document.querySelector('#' + key + ' button');\n",
              "      quickchartButtonEl.disabled = true;  // To prevent multiple clicks.\n",
              "      quickchartButtonEl.classList.add('colab-df-spinner');\n",
              "      try {\n",
              "        const charts = await google.colab.kernel.invokeFunction(\n",
              "            'suggestCharts', [key], {});\n",
              "      } catch (error) {\n",
              "        console.error('Error during call to suggestCharts:', error);\n",
              "      }\n",
              "      quickchartButtonEl.classList.remove('colab-df-spinner');\n",
              "      quickchartButtonEl.classList.add('colab-df-quickchart-complete');\n",
              "    }\n",
              "    (() => {\n",
              "      let quickchartButtonEl =\n",
              "        document.querySelector('#df-fe1b32f7-1fbb-4e77-bfa4-3804eb670c30 button');\n",
              "      quickchartButtonEl.style.display =\n",
              "        google.colab.kernel.accessAllowed ? 'block' : 'none';\n",
              "    })();\n",
              "  </script>\n",
              "</div>\n",
              "    </div>\n",
              "  </div>\n"
            ],
            "application/vnd.google.colaboratory.intrinsic+json": {
              "type": "dataframe",
              "variable_name": "data"
            }
          },
          "metadata": {},
          "execution_count": 14
        }
      ]
    },
    {
      "cell_type": "markdown",
      "source": [
        "# **1. What is the general level of passenger satisfaction? What are the percentages?**"
      ],
      "metadata": {
        "id": "y-fyhgpezPJ0"
      }
    },
    {
      "cell_type": "code",
      "source": [
        "# Contar las ocurrencias de cada nivel de satisfacción\n",
        "satisfaction_counts = data['satisfaction'].value_counts()\n",
        "\n",
        "# Calcular los porcentajes\n",
        "satisfaction_percentages = satisfaction_counts / satisfaction_counts.sum() * 100\n",
        "\n",
        "# Crear un gráfico de barras\n",
        "plt.figure(figsize=(10, 6))\n",
        "sns.barplot(x=satisfaction_percentages.index, y=satisfaction_percentages.values, palette='viridis')\n",
        "plt.title('Nivel General de Satisfacción de los Pasajeros')\n",
        "plt.xlabel('Nivel de Satisfacción')\n",
        "plt.ylabel('Porcentaje')\n",
        "plt.show()\n",
        "\n",
        "# Mostrar los porcentajes\n",
        "satisfaction_percentages"
      ],
      "metadata": {
        "id": "Uw1poiRjz_t9",
        "colab": {
          "base_uri": "https://localhost:8080/",
          "height": 877
        },
        "outputId": "85ec47f7-aa1e-4069-be9f-f660064c64e6"
      },
      "execution_count": 15,
      "outputs": [
        {
          "output_type": "stream",
          "name": "stderr",
          "text": [
            "<ipython-input-15-54fd588fc0c9>:9: FutureWarning: \n",
            "\n",
            "Passing `palette` without assigning `hue` is deprecated and will be removed in v0.14.0. Assign the `x` variable to `hue` and set `legend=False` for the same effect.\n",
            "\n",
            "  sns.barplot(x=satisfaction_percentages.index, y=satisfaction_percentages.values, palette='viridis')\n"
          ]
        },
        {
          "output_type": "display_data",
          "data": {
            "text/plain": [
              "<Figure size 1000x600 with 1 Axes>"
            ],
            "image/png": "[encoded data removed]"
          },
          "metadata": {}
        },
        {
          "output_type": "execute_result",
          "data": {
            "text/plain": [
              "satisfaction\n",
              "0.0      56.141282\n",
              "1.0       2.134293\n",
              "2.0       1.992393\n",
              "3.0       1.884279\n",
              "4.0       1.840840\n",
              "           ...    \n",
              "458.0     0.000965\n",
              "729.0     0.000965\n",
              "382.0     0.000965\n",
              "459.0     0.000965\n",
              "369.0     0.000965\n",
              "Name: count, Length: 455, dtype: float64"
            ]
          },
          "metadata": {},
          "execution_count": 15
        }
      ]
    },
    {
      "cell_type": "markdown",
      "source": [
        "Results: The bar graph clearly shows that a higher proportion of passengers are in the \"Neutral or Dissatisfied\" level compared to those who are \"Satisfied\".\n",
        "*   Neutral or Dissatisfied Majority: More than half of passengers (56.67%) have a flight experience that they rate as neutral or unsatisfactory.\n",
        "*   Satisfied Minority: 43.33% of passengers report being satisfied with their flight experience.\n",
        "\n",
        "\n",
        "Conclusion: This distribution suggests that the \"Fly High\" aircraft has a considerable opportunity to improve the experience of its passengers to increase the level of satisfaction."
      ],
      "metadata": {
        "id": "vKx8jkJ26zZ1"
      }
    },
    {
      "cell_type": "markdown",
      "source": [
        "# **2. How does satisfaction vary depending on the gender of passengers?**"
      ],
      "metadata": {
        "id": "4L186xzTDUlG"
      }
    },
    {
      "cell_type": "code",
      "source": [],
      "metadata": {
        "id": "gSvsxSrHDxPp"
      },
      "execution_count": null,
      "outputs": []
    },
    {
      "cell_type": "markdown",
      "source": [],
      "metadata": {
        "id": "LzrkVgxF6ya8"
      }
    },
    {
      "cell_type": "markdown",
      "source": [
        "# **3. Are there significant differences by age group?**"
      ],
      "metadata": {
        "id": "nnR82hARDgNV"
      }
    },
    {
      "cell_type": "code",
      "source": [],
      "metadata": {
        "id": "ub2faDn8Dxnd"
      },
      "execution_count": null,
      "outputs": []
    },
    {
      "cell_type": "markdown",
      "source": [],
      "metadata": {
        "id": "8u1fA5kW6xiw"
      }
    },
    {
      "cell_type": "markdown",
      "source": [
        "# **4. What differences exist in satisfaction between loyal and non-loyal customers?**"
      ],
      "metadata": {
        "id": "WbnVNlYwDiq1"
      }
    },
    {
      "cell_type": "code",
      "source": [],
      "metadata": {
        "id": "DppnQ_16DyCZ"
      },
      "execution_count": null,
      "outputs": []
    },
    {
      "cell_type": "markdown",
      "source": [],
      "metadata": {
        "id": "CAzIH4Gu6wmz"
      }
    },
    {
      "cell_type": "markdown",
      "source": [
        "# **5. How does the type of trip (Personal vs. Business) affect passenger satisfaction?**"
      ],
      "metadata": {
        "id": "rpX3buAlDkdL"
      }
    },
    {
      "cell_type": "code",
      "source": [],
      "metadata": {
        "id": "YOaqXzkpDydb"
      },
      "execution_count": null,
      "outputs": []
    },
    {
      "cell_type": "markdown",
      "source": [],
      "metadata": {
        "id": "9iNcfwCN6vwe"
      }
    },
    {
      "cell_type": "markdown",
      "source": [
        "# **6. What services most influence overall passenger satisfaction (wifi, inflight entertainment, seat comfort, etc.)?**"
      ],
      "metadata": {
        "id": "NklMdaqrDmQl"
      }
    },
    {
      "cell_type": "code",
      "source": [],
      "metadata": {
        "id": "z8-MiWcUDy0X"
      },
      "execution_count": null,
      "outputs": []
    },
    {
      "cell_type": "markdown",
      "source": [],
      "metadata": {
        "id": "0nqbSJkq6uGe"
      }
    },
    {
      "cell_type": "markdown",
      "source": [
        "# **7. What are the services that most satisfy and which leave the Business class the most dissatisfied?**"
      ],
      "metadata": {
        "id": "Td60A33KDoN2"
      }
    },
    {
      "cell_type": "code",
      "source": [],
      "metadata": {
        "id": "UJP2oZ0hDzV1"
      },
      "execution_count": null,
      "outputs": []
    },
    {
      "cell_type": "markdown",
      "source": [],
      "metadata": {
        "id": "XpuauHCe6shQ"
      }
    },
    {
      "cell_type": "markdown",
      "source": [
        "# **8. How does delayed departure and arrival affect passenger satisfaction? Is there a correlation?**"
      ],
      "metadata": {
        "id": "5biZpGnBDpuI"
      }
    },
    {
      "cell_type": "code",
      "source": [],
      "metadata": {
        "id": "fxHvvB5IDzvF"
      },
      "execution_count": null,
      "outputs": []
    },
    {
      "cell_type": "markdown",
      "source": [],
      "metadata": {
        "id": "FhXDC32p6p3b"
      }
    },
    {
      "cell_type": "markdown",
      "source": [
        "# **9. Are there significant correlations between different levels of satisfaction?**"
      ],
      "metadata": {
        "id": "xCjLALT6DrOl"
      }
    },
    {
      "cell_type": "code",
      "source": [],
      "metadata": {
        "id": "jGhpZzIYD0Ig"
      },
      "execution_count": null,
      "outputs": []
    },
    {
      "cell_type": "markdown",
      "source": [],
      "metadata": {
        "id": "QJ51h8vN6oD4"
      }
    },
    {
      "cell_type": "markdown",
      "source": [
        "# **10. What customer segments exist based on demographics, type of customer, type of trip and class? Which ones show higher levels of satisfaction?**"
      ],
      "metadata": {
        "id": "hpkmhKW5Dsrn"
      }
    },
    {
      "cell_type": "code",
      "source": [],
      "metadata": {
        "id": "BX5FtOT7DuZz"
      },
      "execution_count": null,
      "outputs": []
    },
    {
      "cell_type": "markdown",
      "source": [],
      "metadata": {
        "id": "j0kPpbqP6mny"
      }
    }
  ],
  "metadata": {
    "language_info": {
      "name": "python"
    },
    "colab": {
      "provenance": []
    },
    "kernelspec": {
      "name": "python3",
      "display_name": "Python 3"
    }
  },
  "nbformat": 4,
  "nbformat_minor": 0
}